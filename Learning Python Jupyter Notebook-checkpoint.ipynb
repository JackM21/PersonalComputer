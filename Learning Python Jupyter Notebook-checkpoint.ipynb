{
 "cells": [
  {
   "cell_type": "markdown",
   "metadata": {},
   "source": [
    "## Learning Python for my New Job ##\n",
    "\n",
    "This is my first Jupyter Notebook created on my personal computer post university.\n",
    "\n",
    "The purpose is to re-learn programming up to a good standard for starting a new job.\n",
    "\n",
    "I'm following the University of Michigan's 'Python for Everybody' course, and this workbook will be full of notes and examples from that course.\n",
    "\n",
    "**Chapters**\n",
    "\n",
    "1. Why should you learn to write programs?\n",
    "2. Variables, expressions, and statements\n",
    "3. Conditional Execution\n",
    "4. Functions\n",
    "5. Iteration\n",
    "6. Strings\n",
    "7. Files\n",
    "8. Lists\n",
    "9. Dictionaries\n",
    "10. Tuples\n",
    "11. Regular Expressions\n",
    "12. Networked Programs\n",
    "13. Using Web Services\n",
    "14. Object-oriented Programming\n",
    "15. Using Databases and SQL\n",
    "16. Visualising Data"
   ]
  },
  {
   "cell_type": "markdown",
   "metadata": {},
   "source": [
    "## Chapter 2 ## \n",
    "\n",
    "**Variables, Expressions & Statements**\n",
    "\n",
    "You can check what **type** a variable is, via _type('abcdefg')_.\n",
    "\n",
    "Variable types include:\n",
    "- Integer\n",
    "- Float\n",
    "- String\n",
    "- Boolean\n",
    "- List\n",
    "- Tuple\n",
    "- Many others\n",
    "\n",
    "You can convert data types if needed, via commands such as _int(x), float(x), str(x)_, and others - https://www.tutorialspoint.com/python/python_variable_types.htm.\n",
    "\n",
    "**Variable Names**\n",
    "- Can't start with a number\n",
    "- Can't be one of Pythons _reserved_ keywords\n",
    "\n",
    "__Keywords are:__ \n",
    "\n",
    "and del from None True as elif global nonlocal try\n",
    "\n",
    "assert else if not while break except import or with\n",
    "\n",
    "class False in pass yield continue finally is raise async\n",
    "\n",
    "def for lambda return await\n",
    "\n",
    "\n",
    "### Operators ###\n",
    "\n",
    "- '+' = Addition\n",
    "- '-' = Subtraction\n",
    "- '*' = Multiplication\n",
    "- ** = Exponential\n",
    "- / = Division\n",
    "- // = Floored Division (Rounding down to the nearest full number)\n",
    "- % = Modulus Operator - Prints the remainder of a Floored Division, e.g 5//2 = 2, and 5%2 = 1, i.e 2 remainder 1.\n",
    "\n",
    "#### Operator Order ####\n",
    "The order operations are carried out in is\n",
    "\n",
    "- Parenthesis\n",
    "- Exponential\n",
    "- Multiplication / Division\n",
    "- Addition / Subtraction\n",
    "\n",
    "__LEFT TO RIGHT__ for operators of equal precedence.\n",
    "\n",
    "\n",
    "#### Note: You can use the '+' operator for string concatenation, and you can use '*' to multiply strings any number of times ####\n",
    "\n",
    "__Use _input('text')_ to take in input from the user__\n"
   ]
  },
  {
   "cell_type": "markdown",
   "metadata": {},
   "source": [
    "## Chapter 2 Exercises ##\n",
    "\n",
    "__Exercise 1:__ Write a program that uses input to prompt a user for their name and then welcomes them."
   ]
  },
  {
   "cell_type": "code",
   "execution_count": 25,
   "metadata": {},
   "outputs": [
    {
     "name": "stdout",
     "output_type": "stream",
     "text": [
      "Hello, what's your name?\n",
      "Welcome, \n"
     ]
    }
   ],
   "source": [
    "name = input(\"Hello, what's your name?\")\n",
    "print('Welcome,', name)"
   ]
  },
  {
   "cell_type": "markdown",
   "metadata": {},
   "source": [
    "__Exercise 2:__ Write a program to prompt the user for hours and rate per hour to compute gross pay."
   ]
  },
  {
   "cell_type": "code",
   "execution_count": 28,
   "metadata": {},
   "outputs": [
    {
     "name": "stdout",
     "output_type": "stream",
     "text": [
      "Hello, how many hours do you work per week?37.5\n",
      "Okay, and what is your hourly rate?12.5\n",
      "Great, so your weekly pay is 468.75\n"
     ]
    }
   ],
   "source": [
    "hours = input('Hello, how many hours do you work per week?')\n",
    "rate = input('Okay, and what is your hourly rate?')\n",
    "hours = float(hours)\n",
    "rate = float(rate)\n",
    "pay = hours * rate\n",
    "print('Great, so your weekly pay is', pay)"
   ]
  },
  {
   "cell_type": "markdown",
   "metadata": {},
   "source": [
    "__Exercise 3:__ Assume that we execute the following assignment statements:\n",
    "\n",
    "- width = 17\n",
    "- height = 12.0\n",
    "\n",
    "For each of the following expressions, write the value of the expression and the type (of the value of the expression).\n",
    "\n",
    "1. width//2\n",
    "2. width/2.0\n",
    "3. height/3\n",
    "4. 1 + 2 * 5"
   ]
  },
  {
   "cell_type": "code",
   "execution_count": 35,
   "metadata": {},
   "outputs": [
    {
     "name": "stdout",
     "output_type": "stream",
     "text": [
      "Part One: 8 <class 'int'>\n",
      "Part Two: 8.5 <class 'float'>\n",
      "Part Three: 4.0 <class 'float'>\n",
      "Part Four: 11 <class 'int'>\n"
     ]
    }
   ],
   "source": [
    "width = 17\n",
    "height = 12.0\n",
    "\n",
    "a = width//2\n",
    "b = width/2.0\n",
    "c = height/3\n",
    "d = 1 + 2 * 5\n",
    "print('Part One:', a, type(a))\n",
    "print('Part Two:', b, type(b))\n",
    "print('Part Three:', c, type(c))\n",
    "print('Part Four:', d, type(d))"
   ]
  },
  {
   "cell_type": "markdown",
   "metadata": {},
   "source": [
    "__Exercise 4:__\n",
    "\n",
    "Write a program which prompts the user for a Celsius temperature, convert the temperature to Fahrenheit, and print out the\n",
    "converted temperature."
   ]
  },
  {
   "cell_type": "code",
   "execution_count": 36,
   "metadata": {},
   "outputs": [
    {
     "name": "stdout",
     "output_type": "stream",
     "text": [
      "What's the temperature in Ceclius?36\n",
      "Okay, well then the temperature in Fahrenheit is: 96.8\n"
     ]
    }
   ],
   "source": [
    "tempC = input(\"What's the temperature in Ceclius?\")\n",
    "tempC = float(tempC)\n",
    "tempF = ((9/5)*tempC) + 32\n",
    "\n",
    "print('Okay, well then the temperature in Fahrenheit is:', tempF)"
   ]
  },
  {
   "cell_type": "code",
   "execution_count": null,
   "metadata": {},
   "outputs": [],
   "source": []
  }
 ],
 "metadata": {
  "kernelspec": {
   "display_name": "Python 3",
   "language": "python",
   "name": "python3"
  },
  "language_info": {
   "codemirror_mode": {
    "name": "ipython",
    "version": 3
   },
   "file_extension": ".py",
   "mimetype": "text/x-python",
   "name": "python",
   "nbconvert_exporter": "python",
   "pygments_lexer": "ipython3",
   "version": "3.8.3"
  }
 },
 "nbformat": 4,
 "nbformat_minor": 4
}
