{
 "cells": [
  {
   "cell_type": "markdown",
   "metadata": {},
   "source": [
    "# Learning Python for my New Job #\n",
    "\n",
    "This is my first Jupyter Notebook created on my personal computer post university.\n",
    "\n",
    "The purpose is to re-learn programming up to a good standard for starting a new job.\n",
    "\n",
    "I'm following the University of Michigan's 'Python for Everybody' course, and this workbook will be full of notes and examples from that course.\n",
    "\n",
    "**Chapters**\n",
    "\n",
    "1. Why should you learn to write programs?\n",
    "2. Variables, expressions, and statements\n",
    "3. Conditional Execution\n",
    "4. Functions\n",
    "5. Iteration\n",
    "6. Strings\n",
    "7. Files\n",
    "8. Lists\n",
    "9. Dictionaries\n",
    "10. Tuples\n",
    "11. Regular Expressions\n",
    "12. Networked Programs\n",
    "13. Using Web Services\n",
    "14. Object-oriented Programming\n",
    "15. Using Databases and SQL\n",
    "16. Visualising Data"
   ]
  },
  {
   "cell_type": "markdown",
   "metadata": {},
   "source": [
    "# Chapter 2 #\n",
    "\n",
    "**Variables, Expressions & Statements**\n",
    "\n",
    "You can check what **type** a variable is, via _type('abcdefg')_.\n",
    "\n",
    "Variable types include:\n",
    "- Integer\n",
    "- Float\n",
    "- String\n",
    "- Boolean\n",
    "- List\n",
    "- Tuple\n",
    "- Many others\n",
    "\n",
    "You can convert data types if needed, via commands such as _int(x), float(x), str(x)_, and others - https://www.tutorialspoint.com/python/python_variable_types.htm.\n",
    "\n",
    "**Variable Names**\n",
    "- Can't start with a number\n",
    "- Can't be one of Pythons _reserved_ keywords\n",
    "\n",
    "__Keywords are:__ \n",
    "\n",
    "and del from None True as elif global nonlocal try\n",
    "\n",
    "assert else if not while break except import or with\n",
    "\n",
    "class False in pass yield continue finally is raise async\n",
    "\n",
    "def for lambda return await\n",
    "\n",
    "\n",
    "### Operators ###\n",
    "\n",
    "- '+' = Addition\n",
    "- '-' = Subtraction\n",
    "- '*' = Multiplication\n",
    "- ** = Exponential\n",
    "- / = Division\n",
    "- // = Floored Division (Rounding down to the nearest full number)\n",
    "- % = Modulus Operator - Prints the remainder of a Floored Division, e.g 5//2 = 2, and 5%2 = 1, i.e 2 remainder 1.\n",
    "\n",
    "#### Operator Order ####\n",
    "The order operations are carried out in is\n",
    "\n",
    "- Parenthesis\n",
    "- Exponential\n",
    "- Multiplication / Division\n",
    "- Addition / Subtraction\n",
    "\n",
    "__LEFT TO RIGHT__ for operators of equal precedence.\n",
    "\n",
    "\n",
    "#### Note: You can use the '+' operator for string concatenation, and you can use '*' to multiply strings any number of times ####\n",
    "\n",
    "__Use _input('text')_ to take in input from the user__\n"
   ]
  },
  {
   "cell_type": "markdown",
   "metadata": {},
   "source": [
    "## Chapter 2 Exercises ##\n",
    "\n",
    "__Exercise 1:__ Write a program that uses input to prompt a user for their name and then welcomes them."
   ]
  },
  {
   "cell_type": "code",
   "execution_count": 1,
   "metadata": {},
   "outputs": [
    {
     "name": "stdout",
     "output_type": "stream",
     "text": [
      "Hello, what's your name?jack\n",
      "Welcome, jack\n"
     ]
    }
   ],
   "source": [
    "name = input(\"Hello, what's your name?\")\n",
    "print('Welcome,', name)"
   ]
  },
  {
   "cell_type": "markdown",
   "metadata": {},
   "source": [
    "__Exercise 2:__ Write a program to prompt the user for hours and rate per hour to compute gross pay."
   ]
  },
  {
   "cell_type": "code",
   "execution_count": 2,
   "metadata": {},
   "outputs": [
    {
     "name": "stdout",
     "output_type": "stream",
     "text": [
      "Hello, how many hours do you work per week?37.5\n",
      "Okay, and what is your hourly rate?12.5\n",
      "Great, so your weekly pay is 468.75\n"
     ]
    }
   ],
   "source": [
    "hours = input('Hello, how many hours do you work per week?')\n",
    "rate = input('Okay, and what is your hourly rate?')\n",
    "hours = float(hours)\n",
    "rate = float(rate)\n",
    "pay = hours * rate\n",
    "print('Great, so your weekly pay is', pay)"
   ]
  },
  {
   "cell_type": "markdown",
   "metadata": {},
   "source": [
    "__Exercise 3:__ Assume that we execute the following assignment statements:\n",
    "\n",
    "- width = 17\n",
    "- height = 12.0\n",
    "\n",
    "For each of the following expressions, write the value of the expression and the type (of the value of the expression).\n",
    "\n",
    "1. width//2\n",
    "2. width/2.0\n",
    "3. height/3\n",
    "4. 1 + 2 * 5"
   ]
  },
  {
   "cell_type": "code",
   "execution_count": 3,
   "metadata": {},
   "outputs": [
    {
     "name": "stdout",
     "output_type": "stream",
     "text": [
      "Part One: 8 <class 'int'>\n",
      "Part Two: 8.5 <class 'float'>\n",
      "Part Three: 4.0 <class 'float'>\n",
      "Part Four: 11 <class 'int'>\n"
     ]
    }
   ],
   "source": [
    "width = 17\n",
    "height = 12.0\n",
    "\n",
    "a = width//2\n",
    "b = width/2.0\n",
    "c = height/3\n",
    "d = 1 + 2 * 5\n",
    "print('Part One:', a, type(a))\n",
    "print('Part Two:', b, type(b))\n",
    "print('Part Three:', c, type(c))\n",
    "print('Part Four:', d, type(d))"
   ]
  },
  {
   "cell_type": "markdown",
   "metadata": {},
   "source": [
    "__Exercise 4:__\n",
    "\n",
    "Write a program which prompts the user for a Celsius temperature, convert the temperature to Fahrenheit, and print out the\n",
    "converted temperature."
   ]
  },
  {
   "cell_type": "code",
   "execution_count": 22,
   "metadata": {},
   "outputs": [
    {
     "name": "stdout",
     "output_type": "stream",
     "text": [
      "What's the temperature in Ceclius?21\n",
      "Okay, well then the temperature in Fahrenheit is: 69.80000000000001\n"
     ]
    }
   ],
   "source": [
    "tempC = input(\"What's the temperature in Ceclius?\")\n",
    "tempC = float(tempC)\n",
    "tempF = ((9/5)*tempC) + 32\n",
    "\n",
    "print('Okay, well then the temperature in Fahrenheit is:', tempF)"
   ]
  },
  {
   "cell_type": "markdown",
   "metadata": {},
   "source": [
    "# Chapter 3 #\n",
    "\n",
    "## Conditional Execution ##\n",
    "\n",
    "### Boolean Expressions ### \n",
    "- An expression which is either true or false. \n",
    "\n",
    "There exists the __operator__ \"==\" which compares two _operands_ and tells you if it's True or False\n",
    "\n",
    "In conditional Execution, you're going to want to check things under __comparison operators__ \n",
    "\n",
    "__E.g__\n",
    "\n",
    "- x != y _for x is __not equal__ to y_\n",
    "- x > y _for x is __greater than__ y_\n",
    "- x < y _for x is __less than__ y_\n",
    "- x >= y _for x is greater than __OR__ equal to y_\n",
    "- x <= y _for x is less than __OR__ equal to y_\n",
    "- x is y _for x is the __same__ as y_\n",
    "- x is not y _for x is __not the same__ as y_\n",
    "\n",
    "\n",
    "\n",
    "_Note: (=) is an assignment operator, and (==) is a comparison operator_\n",
    "\n",
    "\n",
    "\n",
    "### Logical Operators ###\n",
    "\n",
    "\n",
    "Three _logical_ operators: __and__, __or__, and __not__\n",
    "\n",
    "E.g\n",
    "- x > 0 __and__ x < 10 -------> is __true__ if x is between 0 and 10\n",
    "- n%2 == 0 or n%3 == 0 -------> is __true__ if n divides __evenly__ by 2 or 3\n",
    "- The __not__ operator acts to __negate__ a boolean\n",
    "\n",
    "### Conditional Execution ###\n",
    "\n",
    "__if statement__, conditional on a boolean, and ended with a colon. The lines afterward are __indented__\n",
    "\n",
    "You can also have __alternative execution__ where there is an __if__ and an __else__ statement, where the condition determines what gets executed.\n",
    "\n",
    "Further, there is __chained conditionals__ where there are __more than two possibilities__ and we need more than two branches to the __if statement__, here we use __elif__ as an abbreviation of \"else if.\"\n",
    "\n",
    "_Note: There need not be a __else__ clause - but if there is one, it __must__ be at the end_.\n",
    "\n",
    "_Also note: If more than one condition is true, only the first branch executes._\n",
    "\n",
    "E.g:"
   ]
  },
  {
   "cell_type": "code",
   "execution_count": 73,
   "metadata": {},
   "outputs": [
    {
     "name": "stdout",
     "output_type": "stream",
     "text": [
      "2\n",
      "The number is positive\n"
     ]
    }
   ],
   "source": [
    "import random\n",
    "\n",
    "e = random.randint(-5, 5)\n",
    "\n",
    "if e > 0:\n",
    "    print(e)\n",
    "    print('The number is positive')\n",
    "    \n",
    "elif e < 0:\n",
    "    print(e)\n",
    "    print('The number is negative')\n",
    "\n",
    "else:\n",
    "    print(e)\n",
    "    print('The number is zero')"
   ]
  },
  {
   "cell_type": "markdown",
   "metadata": {},
   "source": [
    "Occasionally, it is useful to have a body with no statements inside the if condition (usually as a place holder for code you haven’t written yet). In that case, you can use the __pass statement__, which does nothing."
   ]
  },
  {
   "cell_type": "markdown",
   "metadata": {},
   "source": [
    "### Nested Conditions ###\n",
    "\n",
    "One condition can be nested within another. These must be properly indented. They can become confusing however, and there's usually a better way of writing the program using and/or operators. So avoid using nested conditions if possible.\n",
    "\n",
    "\n",
    "### Catching exceptions using try and except ###\n",
    "\n",
    "Useful for avoiding tracebacks in a python script.\n",
    "\n",
    "There is a conditional execution structure built into Python to handle expected / unexpected errors - using \"try / except\"\n",
    "\n",
    "- Use the __try__ section to attempt something which may incur an error.\n",
    "- Use the __except__ section to execute some statements if/when an error occurs.\n",
    "\n",
    "For example, in this case the except clause prints an error message when a non numerical input is given:"
   ]
  },
  {
   "cell_type": "code",
   "execution_count": 75,
   "metadata": {},
   "outputs": [
    {
     "name": "stdout",
     "output_type": "stream",
     "text": [
      "Enter Fahrenheit Temperature:ifja\n",
      "Please enter a number\n"
     ]
    }
   ],
   "source": [
    "inp = input('Enter Fahrenheit Temperature:')\n",
    "try:\n",
    "    fahr = float(inp)\n",
    "    cel = (fahr - 32.0) * 5.0 / 9.0\n",
    "    print(cel)\n",
    "except:\n",
    "    print('Please enter a number')"
   ]
  },
  {
   "cell_type": "markdown",
   "metadata": {},
   "source": [
    "## Chapter 3 Exercises ##\n",
    "\n",
    "__Exercise 1__: Rewrite your pay computation to give the employee 1.5 times the hourly rate for hours worked above 40 hours."
   ]
  },
  {
   "cell_type": "code",
   "execution_count": 9,
   "metadata": {},
   "outputs": [
    {
     "name": "stdout",
     "output_type": "stream",
     "text": [
      "Hello, how many hours do you work per week?20\n",
      "Okay, and what is your hourly rate?10\n",
      "Great, so your weekly pay is 200.0\n"
     ]
    }
   ],
   "source": [
    "hours = input('Hello, how many hours do you work per week?')\n",
    "rate = input('Okay, and what is your hourly rate?')\n",
    "hours = float(hours)\n",
    "rate = float(rate)\n",
    "\n",
    "if hours > 40:\n",
    "    additional_hours = hours - 40\n",
    "    pay = (40*rate) + (additional_hours*rate*1.5)\n",
    "else:\n",
    "    pay = hours * rate\n",
    "\n",
    "print('Great, so your weekly pay is', pay)"
   ]
  },
  {
   "cell_type": "markdown",
   "metadata": {},
   "source": [
    "__Exercise 2__: Rewrite your pay program using try and except so that your program handles non-numeric input gracefully by printing a message and exiting the program. The following shows two executions of the program:"
   ]
  },
  {
   "cell_type": "code",
   "execution_count": 7,
   "metadata": {},
   "outputs": [
    {
     "name": "stdout",
     "output_type": "stream",
     "text": [
      "Hello, how many hours do you work per week?-5\n",
      "Okay, and what is your hourly rate?4\n",
      "Sorry that's not a valid number of hours\n"
     ]
    }
   ],
   "source": [
    "import sys\n",
    "\n",
    "hours = input('Hello, how many hours do you work per week?')\n",
    "\n",
    "try:\n",
    "    hours = float(hours)\n",
    "except:\n",
    "    print(\"Please enter numeric input\")\n",
    "    # sys.exit()\n",
    "    \n",
    "rate = input('Okay, and what is your hourly rate?')\n",
    "\n",
    "try:\n",
    "    rate = float(rate)\n",
    "except:\n",
    "    print('Please enter numeric input')\n",
    "    # sys.exit()\n",
    "          \n",
    "try:    \n",
    "    if hours >= 0 and hours > 40 and rate >= 0:\n",
    "        additional_hours = hours - 40\n",
    "        pay = (40*rate) + (additional_hours*rate*1.5)\n",
    "        print('Great, so your weekly pay is', pay)\n",
    "        \n",
    "    elif hours >=0 and hours <=40 and rate >= 0:\n",
    "        pay = hours * rate\n",
    "        print('Great, so your weekly pay is', pay)\n",
    "        \n",
    "    elif hours < 0:\n",
    "        print(\"Sorry that's not a valid number of hours\")\n",
    "    elif rate < 0:\n",
    "        print(\"Sorry that's not a valid hourly rate\")\n",
    "    else:\n",
    "        print(\"Please make sure that ALL of the input is in numerical form with no spaces\")\n",
    "\n",
    "except:\n",
    "    print('Sorry, please enter all your input in numerical format')"
   ]
  },
  {
   "cell_type": "markdown",
   "metadata": {},
   "source": [
    "__Exercise 3:__ Write a program to prompt for a score between 0.0 and 1.0. If the score is out of range, print an error message. If the score is between 0.0 and 1.0, print a grade using the following table:\n",
    "\n",
    "- (>=) 0.9 = A\n",
    "- (>=) 0.8 = B\n",
    "- (>=) 0.7 = C\n",
    "- (>=) 0.6 = D\n",
    "-  (<) 0.6 = F"
   ]
  },
  {
   "cell_type": "code",
   "execution_count": 21,
   "metadata": {},
   "outputs": [
    {
     "name": "stdout",
     "output_type": "stream",
     "text": [
      "Hi! This program is going to tell you your grade awarded based on what score you got.\n",
      "What score did you get?0.5\n",
      "F\n"
     ]
    }
   ],
   "source": [
    "print('Hi! This program is going to tell you your grade awarded based on what score you got.')\n",
    "score = input('What score did you get?')\n",
    "\n",
    "try:\n",
    "    score = float(score)\n",
    "    if score >= 0.9 and score <= 1:\n",
    "        print('A')\n",
    "    elif score >=0.8 and score <0.9:\n",
    "        print('B')\n",
    "    elif score >=0.7 and score <0.8:\n",
    "        print('C')\n",
    "    elif score >=0.6 and score <0.7:\n",
    "        print('D')\n",
    "    elif score >=0 and score < 0.6:\n",
    "        print('F')\n",
    "    elif score >=1:\n",
    "        print('Bad score. Please enter a number between 0 and 1.')\n",
    "    elif score < 0:\n",
    "        print('Bad score. Please enter a number between 0 and 1.')\n",
    "    else:\n",
    "        print('There has been an error. Please enter a number between 0 and 1.')\n",
    "except:\n",
    "    print('Please ensure the input is in numerical format')"
   ]
  },
  {
   "cell_type": "markdown",
   "metadata": {},
   "source": [
    "## Chapter 4 ##\n",
    "\n",
    "## Functions ##\n",
    "\n",
    "We've seen functions already, e.g type(32) ====> <class 'int'>, where type is the _name_ of the function and 32 is the _argument_ of the function. The result is the _return_ value. This is an example of a __built in function__.\n",
    "\n",
    "### Built in Functions ###\n",
    "\n",
    "Python provides many built-in functions that we can use for free. Some useful ones are:\n",
    "\n",
    "- max('blah')\n",
    "- min('blah')\n",
    "\n",
    "Which give us the largest and smallest values in a list.\n",
    "\n",
    "- The len('blah') function gives us how many items are in an argument. Works on strings aswell as any set of values.\n",
    "\n",
    "### Type Conversion Functions ###\n",
    "\n",
    "Change the \"type\" of a variable.\n",
    "\n",
    "- int('32') _converts the __string__ '32' into an integer_\n",
    "- int(32.7) ======> _converts floating point to integer by removing the decimal and outputs exactly 32._\n",
    "- float(32) _converts the __integer__ 32 into a floating point number, 32.0_\n",
    "- str(32) _converts the integer 32 into a string ==> '32'._\n",
    "\n",
    "\n",
    "### Other Functions built into libraries ###\n",
    "\n",
    "To use functions belonging to libraries you need import a module, e.g import math, before you can use the functions.\n",
    "\n",
    "To use a function belonging to one of these libraries you need to specify the name of the library and then 'dot' with the function.\n",
    "\n",
    "- __power_dB = 10 * math.log10(P2/P1)__\n",
    "- __math.sin(radians)__ _can be used for working out the sin of an angle expressed in radians_\n",
    "- __math.pi__ _gets the variable __pi__ from the math module, pi accurate to 15 digits._\n",
    "- __math.sqrt(69)__\n",
    "\n",
    "__The Random Module__ is a library that allows the generation of random numbers. The module is called __random__ and can be imported via _import random_ and a function to generate random numbers is _random()._\n",
    "\n",
    "\n",
    "__Quick Demonstration:__"
   ]
  },
  {
   "cell_type": "code",
   "execution_count": 31,
   "metadata": {},
   "outputs": [
    {
     "name": "stdout",
     "output_type": "stream",
     "text": [
      "0.5998203647050037\n",
      "0.00661907491838809\n",
      "4\n",
      "6\n"
     ]
    },
    {
     "ename": "TypeError",
     "evalue": "int() argument must be a string, a bytes-like object or a number, not 'list'",
     "output_type": "error",
     "traceback": [
      "\u001b[1;31m---------------------------------------------------------------------------\u001b[0m",
      "\u001b[1;31mTypeError\u001b[0m                                 Traceback (most recent call last)",
      "\u001b[1;32m<ipython-input-31-f75759d49b1f>\u001b[0m in \u001b[0;36m<module>\u001b[1;34m\u001b[0m\n\u001b[0;32m     10\u001b[0m \u001b[1;33m\u001b[0m\u001b[0m\n\u001b[0;32m     11\u001b[0m \u001b[1;32mfor\u001b[0m \u001b[0mi\u001b[0m \u001b[1;32min\u001b[0m \u001b[0mrange\u001b[0m\u001b[1;33m(\u001b[0m\u001b[1;36m2\u001b[0m\u001b[1;33m)\u001b[0m\u001b[1;33m:\u001b[0m\u001b[1;33m\u001b[0m\u001b[1;33m\u001b[0m\u001b[0m\n\u001b[1;32m---> 12\u001b[1;33m     \u001b[0mx\u001b[0m \u001b[1;33m=\u001b[0m \u001b[0mrandom\u001b[0m\u001b[1;33m.\u001b[0m\u001b[0mrandrange\u001b[0m\u001b[1;33m(\u001b[0m\u001b[1;36m0\u001b[0m\u001b[1;33m,\u001b[0m\u001b[1;36m10\u001b[0m\u001b[1;33m,\u001b[0m\u001b[1;33m[\u001b[0m\u001b[1;36m0.1\u001b[0m\u001b[1;33m]\u001b[0m\u001b[1;33m)\u001b[0m\u001b[1;33m\u001b[0m\u001b[1;33m\u001b[0m\u001b[0m\n\u001b[0m\u001b[0;32m     13\u001b[0m     \u001b[0mprint\u001b[0m\u001b[1;33m(\u001b[0m\u001b[0mx\u001b[0m\u001b[1;33m)\u001b[0m\u001b[1;33m\u001b[0m\u001b[1;33m\u001b[0m\u001b[0m\n",
      "\u001b[1;32mC:\\ProgramData\\Anaconda3\\lib\\random.py\u001b[0m in \u001b[0;36mrandrange\u001b[1;34m(self, start, stop, step, _int)\u001b[0m\n\u001b[0;32m    227\u001b[0m \u001b[1;33m\u001b[0m\u001b[0m\n\u001b[0;32m    228\u001b[0m         \u001b[1;31m# Non-unit step argument supplied.\u001b[0m\u001b[1;33m\u001b[0m\u001b[1;33m\u001b[0m\u001b[1;33m\u001b[0m\u001b[0m\n\u001b[1;32m--> 229\u001b[1;33m         \u001b[0mistep\u001b[0m \u001b[1;33m=\u001b[0m \u001b[0m_int\u001b[0m\u001b[1;33m(\u001b[0m\u001b[0mstep\u001b[0m\u001b[1;33m)\u001b[0m\u001b[1;33m\u001b[0m\u001b[1;33m\u001b[0m\u001b[0m\n\u001b[0m\u001b[0;32m    230\u001b[0m         \u001b[1;32mif\u001b[0m \u001b[0mistep\u001b[0m \u001b[1;33m!=\u001b[0m \u001b[0mstep\u001b[0m\u001b[1;33m:\u001b[0m\u001b[1;33m\u001b[0m\u001b[1;33m\u001b[0m\u001b[0m\n\u001b[0;32m    231\u001b[0m             \u001b[1;32mraise\u001b[0m \u001b[0mValueError\u001b[0m\u001b[1;33m(\u001b[0m\u001b[1;34m\"non-integer step for randrange()\"\u001b[0m\u001b[1;33m)\u001b[0m\u001b[1;33m\u001b[0m\u001b[1;33m\u001b[0m\u001b[0m\n",
      "\u001b[1;31mTypeError\u001b[0m: int() argument must be a string, a bytes-like object or a number, not 'list'"
     ]
    }
   ],
   "source": [
    "import random\n",
    "\n",
    "for i in range(2):\n",
    "    x = random.random()                 #Random number between 0 and 1\n",
    "    print(x)\n",
    "    \n",
    "for i in range(2):\n",
    "    x = random.randint(2,8)             #Random Integers\n",
    "    print(x)\n",
    "    \n",
    "for i in range(2):\n",
    "    x = random.randrange(0,10,[0.1])\n",
    "    print(x)"
   ]
  }
 ],
 "metadata": {
  "kernelspec": {
   "display_name": "Python 3",
   "language": "python",
   "name": "python3"
  },
  "language_info": {
   "codemirror_mode": {
    "name": "ipython",
    "version": 3
   },
   "file_extension": ".py",
   "mimetype": "text/x-python",
   "name": "python",
   "nbconvert_exporter": "python",
   "pygments_lexer": "ipython3",
   "version": "3.8.3"
  }
 },
 "nbformat": 4,
 "nbformat_minor": 4
}
