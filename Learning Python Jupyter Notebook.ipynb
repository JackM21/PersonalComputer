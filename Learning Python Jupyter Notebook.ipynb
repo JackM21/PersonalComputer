{
 "cells": [
  {
   "cell_type": "markdown",
   "metadata": {},
   "source": [
    "# Learning Python for my New Job #\n",
    "\n",
    "This is my first Jupyter Notebook created on my personal computer post university.\n",
    "\n",
    "The purpose is to re-learn programming up to a good standard for starting a new job.\n",
    "\n",
    "I'm following the University of Michigan's 'Python for Everybody' course, and this workbook will be full of notes and examples from that course.\n",
    "\n",
    "**Chapters**\n",
    "\n",
    "1. Why should you learn to write programs?\n",
    "2. Variables, expressions, and statements\n",
    "3. Conditional Execution\n",
    "4. Functions\n",
    "5. Iteration\n",
    "6. Strings\n",
    "7. Files\n",
    "8. Lists\n",
    "9. Dictionaries\n",
    "10. Tuples\n",
    "11. Regular Expressions\n",
    "12. Networked Programs\n",
    "13. Using Web Services\n",
    "14. Object-oriented Programming\n",
    "15. Using Databases and SQL\n",
    "16. Visualising Data"
   ]
  },
  {
   "cell_type": "markdown",
   "metadata": {},
   "source": [
    "# Chapter 2 #\n",
    "\n",
    "**Variables, Expressions & Statements**\n",
    "\n",
    "You can check what **type** a variable is, via _type('abcdefg')_.\n",
    "\n",
    "Variable types include:\n",
    "- Integer\n",
    "- Float\n",
    "- String\n",
    "- Boolean\n",
    "- List\n",
    "- Tuple\n",
    "- Many others\n",
    "\n",
    "You can convert data types if needed, via commands such as _int(x), float(x), str(x)_, and others - https://www.tutorialspoint.com/python/python_variable_types.htm.\n",
    "\n",
    "**Variable Names**\n",
    "- Can't start with a number\n",
    "- Can't be one of Pythons _reserved_ keywords\n",
    "\n",
    "__Keywords are:__ \n",
    "\n",
    "and del from None True as elif global nonlocal try\n",
    "\n",
    "assert else if not while break except import or with\n",
    "\n",
    "class False in pass yield continue finally is raise async\n",
    "\n",
    "def for lambda return await\n",
    "\n",
    "\n",
    "### Operators ###\n",
    "\n",
    "- '+' = Addition\n",
    "- '-' = Subtraction\n",
    "- '*' = Multiplication\n",
    "- ** = Exponential\n",
    "- / = Division\n",
    "- // = Floored Division (Rounding down to the nearest full number)\n",
    "- % = Modulus Operator - Prints the remainder of a Floored Division, e.g 5//2 = 2, and 5%2 = 1, i.e 2 remainder 1.\n",
    "\n",
    "#### Operator Order ####\n",
    "The order operations are carried out in is\n",
    "\n",
    "- Parenthesis\n",
    "- Exponential\n",
    "- Multiplication / Division\n",
    "- Addition / Subtraction\n",
    "\n",
    "__LEFT TO RIGHT__ for operators of equal precedence.\n",
    "\n",
    "\n",
    "#### Note: You can use the '+' operator for string concatenation, and you can use '*' to multiply strings any number of times ####\n",
    "\n",
    "__Use _input('text')_ to take in input from the user__\n"
   ]
  },
  {
   "cell_type": "markdown",
   "metadata": {},
   "source": [
    "## Chapter 2 Exercises ##\n",
    "\n",
    "__Exercise 1:__ Write a program that uses input to prompt a user for their name and then welcomes them."
   ]
  },
  {
   "cell_type": "code",
   "execution_count": 1,
   "metadata": {},
   "outputs": [
    {
     "name": "stdout",
     "output_type": "stream",
     "text": [
      "Hello, what's your name?jack\n",
      "Welcome, jack\n"
     ]
    }
   ],
   "source": [
    "name = input(\"Hello, what's your name?\")\n",
    "print('Welcome,', name)"
   ]
  },
  {
   "cell_type": "markdown",
   "metadata": {},
   "source": [
    "__Exercise 2:__ Write a program to prompt the user for hours and rate per hour to compute gross pay."
   ]
  },
  {
   "cell_type": "code",
   "execution_count": 2,
   "metadata": {},
   "outputs": [
    {
     "name": "stdout",
     "output_type": "stream",
     "text": [
      "Hello, how many hours do you work per week?37.5\n",
      "Okay, and what is your hourly rate?12.5\n",
      "Great, so your weekly pay is 468.75\n"
     ]
    }
   ],
   "source": [
    "hours = input('Hello, how many hours do you work per week?')\n",
    "rate = input('Okay, and what is your hourly rate?')\n",
    "hours = float(hours)\n",
    "rate = float(rate)\n",
    "pay = hours * rate\n",
    "print('Great, so your weekly pay is', pay)"
   ]
  },
  {
   "cell_type": "markdown",
   "metadata": {},
   "source": [
    "__Exercise 3:__ Assume that we execute the following assignment statements:\n",
    "\n",
    "- width = 17\n",
    "- height = 12.0\n",
    "\n",
    "For each of the following expressions, write the value of the expression and the type (of the value of the expression).\n",
    "\n",
    "1. width//2\n",
    "2. width/2.0\n",
    "3. height/3\n",
    "4. 1 + 2 * 5"
   ]
  },
  {
   "cell_type": "code",
   "execution_count": 3,
   "metadata": {},
   "outputs": [
    {
     "name": "stdout",
     "output_type": "stream",
     "text": [
      "Part One: 8 <class 'int'>\n",
      "Part Two: 8.5 <class 'float'>\n",
      "Part Three: 4.0 <class 'float'>\n",
      "Part Four: 11 <class 'int'>\n"
     ]
    }
   ],
   "source": [
    "width = 17\n",
    "height = 12.0\n",
    "\n",
    "a = width//2\n",
    "b = width/2.0\n",
    "c = height/3\n",
    "d = 1 + 2 * 5\n",
    "print('Part One:', a, type(a))\n",
    "print('Part Two:', b, type(b))\n",
    "print('Part Three:', c, type(c))\n",
    "print('Part Four:', d, type(d))"
   ]
  },
  {
   "cell_type": "markdown",
   "metadata": {},
   "source": [
    "__Exercise 4:__\n",
    "\n",
    "Write a program which prompts the user for a Celsius temperature, convert the temperature to Fahrenheit, and print out the\n",
    "converted temperature."
   ]
  },
  {
   "cell_type": "code",
   "execution_count": 22,
   "metadata": {},
   "outputs": [
    {
     "name": "stdout",
     "output_type": "stream",
     "text": [
      "What's the temperature in Ceclius?21\n",
      "Okay, well then the temperature in Fahrenheit is: 69.80000000000001\n"
     ]
    }
   ],
   "source": [
    "tempC = input(\"What's the temperature in Ceclius?\")\n",
    "tempC = float(tempC)\n",
    "tempF = ((9/5)*tempC) + 32\n",
    "\n",
    "print('Okay, well then the temperature in Fahrenheit is:', tempF)"
   ]
  },
  {
   "cell_type": "markdown",
   "metadata": {},
   "source": [
    "# Chapter 3 #\n",
    "\n",
    "## Conditional Execution ##\n",
    "\n",
    "### Boolean Expressions ### \n",
    "- An expression which is either true or false. \n",
    "\n",
    "There exists the __operator__ \"==\" which compares two _operands_ and tells you if it's True or False\n",
    "\n",
    "In conditional Execution, you're going to want to check things under __comparison operators__ \n",
    "\n",
    "__E.g__\n",
    "\n",
    "- x != y _for x is __not equal__ to y_\n",
    "- x > y _for x is __greater than__ y_\n",
    "- x < y _for x is __less than__ y_\n",
    "- x >= y _for x is greater than __OR__ equal to y_\n",
    "- x <= y _for x is less than __OR__ equal to y_\n",
    "- x is y _for x is the __same__ as y_\n",
    "- x is not y _for x is __not the same__ as y_\n",
    "\n",
    "\n",
    "\n",
    "_Note: (=) is an assignment operator, and (==) is a comparison operator_\n",
    "\n",
    "\n",
    "\n",
    "### Logical Operators ###\n",
    "\n",
    "\n",
    "Three _logical_ operators: __and__, __or__, and __not__\n",
    "\n",
    "E.g\n",
    "- x > 0 __and__ x < 10 -------> is __true__ if x is between 0 and 10\n",
    "- n%2 == 0 or n%3 == 0 -------> is __true__ if n divides __evenly__ by 2 or 3\n",
    "- The __not__ operator acts to __negate__ a boolean\n",
    "\n",
    "### Conditional Execution ###\n",
    "\n",
    "__if statement__, conditional on a boolean, and ended with a colon. The lines afterward are __indented__\n",
    "\n",
    "You can also have __alternative execution__ where there is an __if__ and an __else__ statement, where the condition determines what gets executed.\n",
    "\n",
    "Further, there is __chained conditionals__ where there are __more than two possibilities__ and we need more than two branches to the __if statement__, here we use __elif__ as an abbreviation of \"else if.\"\n",
    "\n",
    "_Note: There need not be a __else__ clause - but if there is one, it __must__ be at the end_.\n",
    "\n",
    "_Also note: If more than one condition is true, only the first branch executes._\n",
    "\n",
    "E.g:"
   ]
  },
  {
   "cell_type": "code",
   "execution_count": 73,
   "metadata": {},
   "outputs": [
    {
     "name": "stdout",
     "output_type": "stream",
     "text": [
      "2\n",
      "The number is positive\n"
     ]
    }
   ],
   "source": [
    "import random\n",
    "\n",
    "e = random.randint(-5, 5)\n",
    "\n",
    "if e > 0:\n",
    "    print(e)\n",
    "    print('The number is positive')\n",
    "    \n",
    "elif e < 0:\n",
    "    print(e)\n",
    "    print('The number is negative')\n",
    "\n",
    "else:\n",
    "    print(e)\n",
    "    print('The number is zero')"
   ]
  },
  {
   "cell_type": "markdown",
   "metadata": {},
   "source": [
    "Occasionally, it is useful to have a body with no statements inside the if condition (usually as a place holder for code you haven’t written yet). In that case, you can use the __pass statement__, which does nothing."
   ]
  },
  {
   "cell_type": "markdown",
   "metadata": {},
   "source": [
    "### Nested Conditions ###\n",
    "\n",
    "One condition can be nested within another. These must be properly indented. They can become confusing however, and there's usually a better way of writing the program using and/or operators. So avoid using nested conditions if possible.\n",
    "\n",
    "\n",
    "### Catching exceptions using try and except ###\n",
    "\n",
    "Useful for avoiding tracebacks in a python script.\n",
    "\n",
    "There is a conditional execution structure built into Python to handle expected / unexpected errors - using \"try / except\"\n",
    "\n",
    "- Use the __try__ section to attempt something which may incur an error.\n",
    "- Use the __except__ section to execute some statements if/when an error occurs.\n",
    "\n",
    "For example, in this case the except clause prints an error message when a non numerical input is given:"
   ]
  },
  {
   "cell_type": "code",
   "execution_count": 75,
   "metadata": {},
   "outputs": [
    {
     "name": "stdout",
     "output_type": "stream",
     "text": [
      "Enter Fahrenheit Temperature:ifja\n",
      "Please enter a number\n"
     ]
    }
   ],
   "source": [
    "inp = input('Enter Fahrenheit Temperature:')\n",
    "try:\n",
    "    fahr = float(inp)\n",
    "    cel = (fahr - 32.0) * 5.0 / 9.0\n",
    "    print(cel)\n",
    "except:\n",
    "    print('Please enter a number')"
   ]
  },
  {
   "cell_type": "markdown",
   "metadata": {},
   "source": [
    "## Chapter 3 Exercises ##\n",
    "\n",
    "__Exercise 1__: Rewrite your pay computation to give the employee 1.5 times the hourly rate for hours worked above 40 hours."
   ]
  },
  {
   "cell_type": "code",
   "execution_count": 9,
   "metadata": {},
   "outputs": [
    {
     "name": "stdout",
     "output_type": "stream",
     "text": [
      "Hello, how many hours do you work per week?20\n",
      "Okay, and what is your hourly rate?10\n",
      "Great, so your weekly pay is 200.0\n"
     ]
    }
   ],
   "source": [
    "hours = input('Hello, how many hours do you work per week?')\n",
    "rate = input('Okay, and what is your hourly rate?')\n",
    "hours = float(hours)\n",
    "rate = float(rate)\n",
    "\n",
    "if hours > 40:\n",
    "    additional_hours = hours - 40\n",
    "    pay = (40*rate) + (additional_hours*rate*1.5)\n",
    "else:\n",
    "    pay = hours * rate\n",
    "\n",
    "print('Great, so your weekly pay is', pay)"
   ]
  },
  {
   "cell_type": "markdown",
   "metadata": {},
   "source": [
    "__Exercise 2__: Rewrite your pay program using try and except so that your program handles non-numeric input gracefully by printing a message and exiting the program. The following shows two executions of the program:"
   ]
  },
  {
   "cell_type": "code",
   "execution_count": 7,
   "metadata": {},
   "outputs": [
    {
     "name": "stdout",
     "output_type": "stream",
     "text": [
      "Hello, how many hours do you work per week?-5\n",
      "Okay, and what is your hourly rate?4\n",
      "Sorry that's not a valid number of hours\n"
     ]
    }
   ],
   "source": [
    "import sys\n",
    "\n",
    "hours = input('Hello, how many hours do you work per week?')\n",
    "\n",
    "try:\n",
    "    hours = float(hours)\n",
    "except:\n",
    "    print(\"Please enter numeric input\")\n",
    "    # sys.exit()\n",
    "    \n",
    "rate = input('Okay, and what is your hourly rate?')\n",
    "\n",
    "try:\n",
    "    rate = float(rate)\n",
    "except:\n",
    "    print('Please enter numeric input')\n",
    "    # sys.exit()\n",
    "          \n",
    "try:    \n",
    "    if hours >= 0 and hours > 40 and rate >= 0:\n",
    "        additional_hours = hours - 40\n",
    "        pay = (40*rate) + (additional_hours*rate*1.5)\n",
    "        print('Great, so your weekly pay is', pay)\n",
    "        \n",
    "    elif hours >=0 and hours <=40 and rate >= 0:\n",
    "        pay = hours * rate\n",
    "        print('Great, so your weekly pay is', pay)\n",
    "        \n",
    "    elif hours < 0:\n",
    "        print(\"Sorry that's not a valid number of hours\")\n",
    "    elif rate < 0:\n",
    "        print(\"Sorry that's not a valid hourly rate\")\n",
    "    else:\n",
    "        print(\"Please make sure that ALL of the input is in numerical form with no spaces\")\n",
    "\n",
    "except:\n",
    "    print('Sorry, please enter all your input in numerical format')"
   ]
  },
  {
   "cell_type": "markdown",
   "metadata": {},
   "source": [
    "__Exercise 3:__ Write a program to prompt for a score between 0.0 and 1.0. If the score is out of range, print an error message. If the score is between 0.0 and 1.0, print a grade using the following table:\n",
    "\n",
    "- (>=) 0.9 = A\n",
    "- (>=) 0.8 = B\n",
    "- (>=) 0.7 = C\n",
    "- (>=) 0.6 = D\n",
    "-  (<) 0.6 = F"
   ]
  },
  {
   "cell_type": "code",
   "execution_count": 21,
   "metadata": {},
   "outputs": [
    {
     "name": "stdout",
     "output_type": "stream",
     "text": [
      "Hi! This program is going to tell you your grade awarded based on what score you got.\n",
      "What score did you get?0.5\n",
      "F\n"
     ]
    }
   ],
   "source": [
    "print('Hi! This program is going to tell you your grade awarded based on what score you got.')\n",
    "score = input('What score did you get?')\n",
    "\n",
    "try:\n",
    "    score = float(score)\n",
    "    if score >= 0.9 and score <= 1:\n",
    "        print('A')\n",
    "    elif score >=0.8 and score <0.9:\n",
    "        print('B')\n",
    "    elif score >=0.7 and score <0.8:\n",
    "        print('C')\n",
    "    elif score >=0.6 and score <0.7:\n",
    "        print('D')\n",
    "    elif score >=0 and score < 0.6:\n",
    "        print('F')\n",
    "    elif score >=1:\n",
    "        print('Bad score. Please enter a number between 0 and 1.')\n",
    "    elif score < 0:\n",
    "        print('Bad score. Please enter a number between 0 and 1.')\n",
    "    else:\n",
    "        print('There has been an error. Please enter a number between 0 and 1.')\n",
    "except:\n",
    "    print('Please ensure the input is in numerical format')"
   ]
  },
  {
   "cell_type": "markdown",
   "metadata": {},
   "source": [
    "## Chapter 4 ##\n",
    "\n",
    "## Functions ##\n",
    "\n",
    "We've seen functions already, e.g type(32) ====> <class 'int'>, where type is the _name_ of the function and 32 is the _argument_ of the function. The result is the _return_ value. This is an example of a __built in function__.\n",
    "\n",
    "### Built in Functions ###\n",
    "\n",
    "Python provides many built-in functions that we can use for free. Some useful ones are:\n",
    "\n",
    "- max('blah')\n",
    "- min('blah')\n",
    "\n",
    "Which give us the largest and smallest values in a list.\n",
    "\n",
    "- The len('blah') function gives us how many items are in an argument. Works on strings aswell as any set of values.\n",
    "\n",
    "### Type Conversion Functions ###\n",
    "\n",
    "Change the \"type\" of a variable.\n",
    "\n",
    "- int('32') _converts the __string__ '32' into an integer_\n",
    "- int(32.7) ======> _converts floating point to integer by removing the decimal and outputs exactly 32._\n",
    "- float(32) _converts the __integer__ 32 into a floating point number, 32.0_\n",
    "- str(32) _converts the integer 32 into a string ==> '32'._\n",
    "\n",
    "\n",
    "### Other Functions built into libraries ###\n",
    "\n",
    "To use functions belonging to libraries you need import a module, e.g import math, before you can use the functions.\n",
    "\n",
    "To use a function belonging to one of these libraries you need to specify the name of the library and then 'dot' with the function.\n",
    "\n",
    "- __power_dB = 10 * math.log10(P2/P1)__\n",
    "- __math.sin(radians)__ _can be used for working out the sin of an angle expressed in radians_\n",
    "- __math.pi__ _gets the variable __pi__ from the math module, pi accurate to 15 digits._\n",
    "- __math.sqrt(69)__\n",
    "\n",
    "__The Random Module__ is a library that allows the generation of random numbers. The module is called __random__ and can be imported via _import random_ and a function to generate random numbers is _random()._\n",
    "\n",
    "Further, the random module also allows you to generate random gaussian curves and more.\n",
    "\n",
    "\n",
    "__Quick Demonstration:__"
   ]
  },
  {
   "cell_type": "code",
   "execution_count": 36,
   "metadata": {},
   "outputs": [
    {
     "name": "stdout",
     "output_type": "stream",
     "text": [
      "0.7668064316793193\n",
      "0.24967594188002484\n",
      "3\n",
      "3\n",
      "2\n",
      "0\n",
      "2.132274052681004\n",
      "5.835206726900913\n"
     ]
    }
   ],
   "source": [
    "import random\n",
    "\n",
    "for i in range(2):\n",
    "    x = random.random()                 #Random number between 0 and 1\n",
    "    print(x)\n",
    "    \n",
    "for i in range(2):\n",
    "    x = random.randint(2,8)             #Random Integers\n",
    "    print(x)\n",
    "    \n",
    "for i in range(2):\n",
    "    x = random.randrange(0,10)\n",
    "    print(x)\n",
    "    \n",
    "############### I can't seem to find a way to create a random decimal\n",
    "###############suppose if you wanted to create a random number including a decimal you could do:\n",
    "\n",
    "for i in range(2):\n",
    "    x = random.randrange(0,10) + random.random()\n",
    "    print(x)\n",
    "\n",
    "############### Seems to work pretty good!"
   ]
  },
  {
   "cell_type": "markdown",
   "metadata": {},
   "source": [
    "### You can also choose a random item from a list! ###"
   ]
  },
  {
   "cell_type": "code",
   "execution_count": 37,
   "metadata": {},
   "outputs": [
    {
     "data": {
      "text/plain": [
       "5"
      ]
     },
     "execution_count": 37,
     "metadata": {},
     "output_type": "execute_result"
    }
   ],
   "source": [
    "t = [1, 5, 10]\n",
    "random.choice(t)"
   ]
  },
  {
   "cell_type": "markdown",
   "metadata": {},
   "source": [
    "# Creating your own Functions #\n",
    "\n",
    "To do this you need to __define the function with a name__ and then have the function do a sequence of steps for you whenever it's called.\n",
    "\n",
    "The benefit is that the same function can be reused over and over throughout the program.\n",
    "\n",
    "Example:"
   ]
  },
  {
   "cell_type": "code",
   "execution_count": 44,
   "metadata": {},
   "outputs": [
    {
     "name": "stdout",
     "output_type": "stream",
     "text": [
      "Aserejé, ja deje tejebe tude jebere\n",
      "Sebiunouba majabi an de bugui an de buididipí\n"
     ]
    }
   ],
   "source": [
    "def print_lyrics():\n",
    "    print(\"Aserejé, ja deje tejebe tude jebere\")\n",
    "    print(\"Sebiunouba majabi an de bugui an de buididipí\")\n",
    "\n",
    "\n",
    "print_lyrics()"
   ]
  },
  {
   "cell_type": "markdown",
   "metadata": {},
   "source": [
    "__This is extremely basic, and the parenthesis after the name indicates that this function doesn't take any arguments__. Most useful functions will take in some arguments, perform a process to them, and then give a resultant output.\n",
    "\n",
    "__Defining a function creates a variable with the same name, and it's type can be checked__"
   ]
  },
  {
   "cell_type": "code",
   "execution_count": 45,
   "metadata": {},
   "outputs": [
    {
     "name": "stdout",
     "output_type": "stream",
     "text": [
      "<class 'function'>\n"
     ]
    }
   ],
   "source": [
    "print(type(print_lyrics))"
   ]
  },
  {
   "cell_type": "markdown",
   "metadata": {},
   "source": [
    "Once you have defined a function, you can use it inside another function aswell! For example, the chorus of the ketchup song actually repeats the same two lines three times. \n",
    "\n",
    "Hence one might want to save themselves time by writing a function to do this.\n",
    "\n",
    "__Note: Functions must be defined before they are called into action ! If you're getting errors sometimes it's good to follow the flow of execution of the program to find out if this is a problem or not.__"
   ]
  },
  {
   "cell_type": "code",
   "execution_count": 47,
   "metadata": {},
   "outputs": [
    {
     "name": "stdout",
     "output_type": "stream",
     "text": [
      "Aserejé, ja deje tejebe tude jebere\n",
      "Sebiunouba majabi an de bugui an de buididipí\n",
      "Aserejé, ja deje tejebe tude jebere\n",
      "Sebiunouba majabi an de bugui an de buididipí\n",
      "Aserejé, ja deje tejebe tude jebere\n",
      "Sebiunouba majabi an de bugui an de buididipí\n"
     ]
    }
   ],
   "source": [
    "def entire_chorus():\n",
    "    print_lyrics()\n",
    "    print_lyrics()\n",
    "    print_lyrics()\n",
    "\n",
    "entire_chorus()"
   ]
  },
  {
   "cell_type": "markdown",
   "metadata": {},
   "source": [
    "### Functions with Parameters and Arguments ###\n",
    "\n",
    "Functions can take in arguments, e.g math.sin(angle), where _sin_ is the function, and _angle_ is  the argument of the function.\n",
    "\n",
    "__Inside the function, the arguments get _assigned_ to variables called _parameters___.\n",
    "\n",
    "Here's an example of a user-defined function that takes in an argument:"
   ]
  },
  {
   "cell_type": "code",
   "execution_count": 62,
   "metadata": {},
   "outputs": [
    {
     "name": "stdout",
     "output_type": "stream",
     "text": [
      "jack\n",
      "jack\n",
      "jack jack jack jack \n",
      "jack jack jack jack \n"
     ]
    }
   ],
   "source": [
    "def print_twice(jess):\n",
    "    print(jess)\n",
    "    print(jess)\n",
    "\n",
    "print_twice('jack')\n",
    "print_twice('jack ' * 4)       # This is a demonstration that the argument is EVALUATED BEFORE THE FUNCTION IS CALLED"
   ]
  },
  {
   "cell_type": "markdown",
   "metadata": {},
   "source": [
    "Here the function assigns the _argument 'jack'_ to a __parameter 'jess'__. Inside the function, the parameter is used inside that function for carrying out processes.\n",
    "\n",
    "__Note__: You can also use a variable as an argument of a function too.\n",
    "\n",
    "When using functions in a script you need to store the result of a function in a variable to use it further. It also doesn't display the result unless you print the result. \n",
    "\n",
    "e.g saying x = math.sqrt(5) to store it, or saying print(math.sqrt(5)) to display the result.\n",
    "\n",
    "### Returning a result from a function ###\n",
    "\n",
    "Use the __return__ statement.\n",
    "\n",
    "e.g:"
   ]
  },
  {
   "cell_type": "code",
   "execution_count": 68,
   "metadata": {},
   "outputs": [
    {
     "name": "stdout",
     "output_type": "stream",
     "text": [
      "8\n"
     ]
    }
   ],
   "source": [
    "def addtwo(a, b):\n",
    "    added = a + b\n",
    "    return added\n",
    "\n",
    "x = addtwo(3, 5)\n",
    "print(x)"
   ]
  },
  {
   "cell_type": "markdown",
   "metadata": {},
   "source": [
    "This function takes in __two arguments__, assigns them to __parameters a & b respectively__ and then carries out the _process_ storing it in a local function variable called __addedd__, _before __returning__ the desired output of the function_."
   ]
  },
  {
   "cell_type": "markdown",
   "metadata": {},
   "source": [
    "### Chapter 4 Exercises ###\n",
    "\n",
    "__Exercise 1:__ Rewrite your pay computation with time-and-a-half for overtime and create a function called computepay which takes two parameters (hours and rate)."
   ]
  },
  {
   "cell_type": "code",
   "execution_count": 79,
   "metadata": {},
   "outputs": [
    {
     "name": "stdout",
     "output_type": "stream",
     "text": [
      "How many hours do you work per week?95\n",
      "What is your basic rate?389\n",
      "Your pay is 47652.5\n"
     ]
    }
   ],
   "source": [
    "def pay_calculation(hours, rate):\n",
    "    if hours > 40:\n",
    "        pay = (40 * rate) + ((hours - 40) * rate * 1.5)\n",
    "    elif hours <= 40 and hours >= 0:\n",
    "        pay = hours * rate\n",
    "    else:\n",
    "        print(\"Sorry there's some invalid data here somewhere...\")\n",
    "    \n",
    "    return pay\n",
    "\n",
    "hrs = input(\"How many hours do you work per week?\")\n",
    "rate = input(\"What is your basic rate?\")\n",
    "\n",
    "hrs = float(hrs)\n",
    "rate = float(rate)\n",
    "\n",
    "print('Your pay is', pay_calculation(hrs, rate))"
   ]
  },
  {
   "cell_type": "markdown",
   "metadata": {},
   "source": [
    "__Exercise 2:__ Rewrite the grade program from the previous chapter using a function called computegrade that takes a score as its parameter and returns a grade as a string."
   ]
  },
  {
   "cell_type": "code",
   "execution_count": 84,
   "metadata": {},
   "outputs": [
    {
     "name": "stdout",
     "output_type": "stream",
     "text": [
      "What was your score on the test between 0 and 1?0.5\n",
      "Your grade awarded is F\n"
     ]
    }
   ],
   "source": [
    "def grade_calculation(grade):\n",
    "    if grade >= 0.9 and grade <= 1:\n",
    "        assignment = 'A'\n",
    "    elif grade >= 0.8 and grade < 0.9:\n",
    "        assignment = 'B'\n",
    "    elif grade >= 0.7 and grade < 0.8:\n",
    "        assignment = 'C'\n",
    "    elif grade >= 0.6 and grade < 0.7:\n",
    "        assignment = 'D'\n",
    "    elif grade >= 0 and grade <0.6:\n",
    "        assignment = 'F'\n",
    "    else:\n",
    "        assignment = 'Unknown'\n",
    "    return assignment\n",
    "\n",
    "score = input('What was your score on the test between 0 and 1?')\n",
    "score = float(score)\n",
    "\n",
    "print('Your grade awarded is', grade_calculation(score))"
   ]
  },
  {
   "cell_type": "markdown",
   "metadata": {},
   "source": [
    "# Chapter 5 - Iteration #"
   ]
  },
  {
   "cell_type": "markdown",
   "metadata": {},
   "source": [
    "__Sometimes you want to repeat a process over and over, such as updating a variable, or scanning through consecutive items in a list__\n",
    "\n",
    "Before you can update a variable you have to _initialise_ it. Thereafter you can iterate on that variable.\n",
    "\n",
    "Updating a variable by __addng 1__ is called an __increment__; __subtracting 1__ is called a __decrement__.\n",
    "\n",
    "\n",
    "## While loops ##\n",
    "\n",
    "__Example:__"
   ]
  },
  {
   "cell_type": "code",
   "execution_count": 1,
   "metadata": {},
   "outputs": [
    {
     "name": "stdout",
     "output_type": "stream",
     "text": [
      "5\n",
      "4\n",
      "3\n",
      "2\n",
      "1\n",
      "Blastoff!\n"
     ]
    }
   ],
   "source": [
    "n = 5\n",
    "while n > 0:\n",
    "    print(n)\n",
    "    n = n - 1\n",
    "print('Blastoff!')"
   ]
  },
  {
   "cell_type": "markdown",
   "metadata": {},
   "source": [
    "__Note:__ In this case __'n'__ is the __iteration variable__. If there is __no iteration variable__ then the loop will repeat forever resulting in an __infinite loop__.\n",
    "\n",
    "Sometimes you might want an infinite loop to occur on purpose, e.g if you are __looking for a specific input from the user__. In this case you will want to exit the loop _when the condition is met_ via the __break__ statement.\n",
    "\n",
    "Note that \"True\" is a constant value and is always true in this case - so the loop is infinite unless we break out of it by satisfying the __exit condition__."
   ]
  },
  {
   "cell_type": "code",
   "execution_count": 6,
   "metadata": {},
   "outputs": [
    {
     "name": "stdout",
     "output_type": "stream",
     "text": [
      "> Please type exactly the word 'done'fioja\n",
      "fioja\n",
      "> Please type exactly the word 'done'done\n",
      "Done!\n"
     ]
    }
   ],
   "source": [
    "while True:\n",
    "    line = input(\"> Please type exactly the word 'done'\")\n",
    "    if line == 'done':\n",
    "        break\n",
    "    print(line)\n",
    "print('Done!')"
   ]
  },
  {
   "cell_type": "markdown",
   "metadata": {},
   "source": [
    "### This way of writing while loops is common ###\n",
    "because you can __check the condition anywhere in the loop__ (not just at the top) and you can express the stop condition affirmatively (“stop when this happens”) rather than negatively (“keep going until that happens.”).\n",
    "\n",
    "### Finishing Iterations with continue ###\n",
    "\n",
    "Sometimes __during__ an iteration of a loop you don't want to finish that iteration and instead jump to the __next iteration__ of the loop. Here you can use the __continue__ statement to skip to the next iteration."
   ]
  },
  {
   "cell_type": "code",
   "execution_count": 8,
   "metadata": {},
   "outputs": [
    {
     "name": "stdout",
     "output_type": "stream",
     "text": [
      "> #r\n",
      "> #raj\n",
      "> hi\n",
      "hi\n",
      "> done\n",
      "Done!\n"
     ]
    }
   ],
   "source": [
    "while True:\n",
    "    line = input('> ')\n",
    "    if line[0] == '#':\n",
    "        continue                        #### This means whenever a # is put at the start of the input it WONT print the line!\n",
    "    if line == 'done':\n",
    "        break\n",
    "    print(line)                         # <------- Will be skipped by 'continue' statement.\n",
    "print('Done!')"
   ]
  },
  {
   "cell_type": "markdown",
   "metadata": {},
   "source": [
    "## Definite Loops using For Statement ##\n",
    "\n",
    "- For looping through a __set__ of things\n",
    "- For looping through a set number of times\n",
    "\n",
    "- While Loops = Indefinite - End whenever a condition is met or whenever the subject of the loop becomes FALSE.\n",
    "- For Loops = Definite Loops - Have a set end point.\n",
    "\n",
    "__Example__"
   ]
  },
  {
   "cell_type": "code",
   "execution_count": 10,
   "metadata": {
    "scrolled": true
   },
   "outputs": [
    {
     "name": "stdout",
     "output_type": "stream",
     "text": [
      "Happy New Year: Joseph\n",
      "Happy New Year: Glenn\n",
      "Happy New Year: Sally\n",
      "Done!\n"
     ]
    }
   ],
   "source": [
    "friends = ['Joseph', 'Glenn', 'Sally']\n",
    "for friend in friends:\n",
    "    print('Happy New Year:', friend)\n",
    "print('Done!')"
   ]
  },
  {
   "cell_type": "markdown",
   "metadata": {},
   "source": [
    "Note that Python doesn't know that friend = singular for friends, but it makes good readability. Here __friend__ is the __iteration variable__.\n",
    "\n",
    "\n",
    "## Loop Patterns ##\n",
    "\n",
    "Generally: \n",
    "\n",
    "- Initialise one or more variables _before_ the loop starts\n",
    "- Perform some computation on each item in a loop body\n",
    "- Look at the resulting varaibles when the loop completes.\n",
    "\n",
    "Example: __Counting the number of items in a list__"
   ]
  },
  {
   "cell_type": "code",
   "execution_count": 12,
   "metadata": {},
   "outputs": [
    {
     "name": "stdout",
     "output_type": "stream",
     "text": [
      "Count:  6\n"
     ]
    }
   ],
   "source": [
    "count = 0\n",
    "for itervar in [3, 41, 12, 9, 74, 15]:\n",
    "    count = count + 1\n",
    "print('Count: ', count)"
   ]
  },
  {
   "cell_type": "markdown",
   "metadata": {},
   "source": [
    "Another similar loop that computes the total of a set of numbers is as follows:\n",
    "\n",
    "Note - here we _do_ use the __iteration variable inside the loop__."
   ]
  },
  {
   "cell_type": "code",
   "execution_count": 14,
   "metadata": {},
   "outputs": [
    {
     "name": "stdout",
     "output_type": "stream",
     "text": [
      "Total:  154\n"
     ]
    }
   ],
   "source": [
    "total = 0\n",
    "for itervar in [3, 41, 12, 9, 74, 15]:\n",
    "    total = total + itervar\n",
    "print('Total: ', total)"
   ]
  },
  {
   "cell_type": "markdown",
   "metadata": {},
   "source": [
    "__Find Maximum in List__\n",
    "\n",
    "- Note you can literally just change the direction of the \">\" and this becomes find smallest."
   ]
  },
  {
   "cell_type": "code",
   "execution_count": 36,
   "metadata": {},
   "outputs": [
    {
     "name": "stdout",
     "output_type": "stream",
     "text": [
      "Before: None\n",
      "Loop: 3 3\n",
      "Loop: 41 3\n",
      "Loop: 12 3\n",
      "Loop: 9 3\n",
      "Loop: 74 3\n",
      "Loop: 15 3\n",
      "Smallest: 3\n"
     ]
    }
   ],
   "source": [
    "largest = None\n",
    "print('Before:', largest)\n",
    "for itervar in [3, 41, 12, 9, 74, 15]:\n",
    "    if largest is None or itervar > largest :\n",
    "        largest = itervar\n",
    "    print('Loop:', itervar, largest)\n",
    "print('Largest:', largest)"
   ]
  },
  {
   "cell_type": "markdown",
   "metadata": {},
   "source": [
    "### In practice, built-in functions len(), sum(), min(), and max() do the same things anyway ###\n",
    "\n",
    "Example:"
   ]
  },
  {
   "cell_type": "code",
   "execution_count": 19,
   "metadata": {},
   "outputs": [
    {
     "name": "stdout",
     "output_type": "stream",
     "text": [
      "Number of items: 6\n",
      "Total of entires: 154\n",
      "The maximum entry is: 74\n",
      "The minimum entry is: 3\n"
     ]
    }
   ],
   "source": [
    "x = [3, 41, 12, 9, 74, 15]\n",
    "print('Number of items:', len(x))\n",
    "print('Total of entires:', sum(x))\n",
    "print('The maximum entry is:', max(x))\n",
    "print('The minimum entry is:', min(x))"
   ]
  },
  {
   "cell_type": "markdown",
   "metadata": {},
   "source": [
    "### Chapter 5 Exercises ###\n",
    "\n",
    "__Exercise 1:__ Write a program which repeatedly reads numbers until the user enters “done”. Once “done” is entered, print out the total, count, and average of the numbers. If the user enters anything other than a number, detect their mistake using try and except and print an error message and skip to the next number."
   ]
  },
  {
   "cell_type": "code",
   "execution_count": 20,
   "metadata": {},
   "outputs": [
    {
     "name": "stdout",
     "output_type": "stream",
     "text": [
      "Tell me what numbers you want me to repeat to you\n",
      "Enter number:2\n",
      "2.0\n",
      "Enter number:3\n",
      "3.0\n",
      "Enter number:4\n",
      "4.0\n",
      "Enter number:5\n",
      "5.0\n",
      "Enter number:done\n",
      "The average is 3.5\n",
      "The total is 14.0\n",
      "The number of items you entered was 4\n"
     ]
    }
   ],
   "source": [
    "print('Tell me what numbers you want me to repeat to you')\n",
    "total = 0\n",
    "count = 0\n",
    "\n",
    "while True:\n",
    "    inp = input('Enter number:')\n",
    "    if inp == 'done':\n",
    "        break\n",
    "    else:\n",
    "        try:\n",
    "            inp = float(inp)\n",
    "            count = count + 1\n",
    "            total = total + inp\n",
    "            print(inp)\n",
    "        except:\n",
    "            print(\"Sorry that's not a number\")\n",
    "            continue\n",
    "\n",
    "\n",
    "average = total / count\n",
    "print('The average is', average)\n",
    "print('The total is', total)\n",
    "print('The number of items you entered was', count)"
   ]
  },
  {
   "cell_type": "markdown",
   "metadata": {},
   "source": [
    "__Exercise 2:__\n",
    "\n",
    "Write another program that prompts for a list of numbers as above and at the end prints out both the maximum and minimum of the numbers instead of the average."
   ]
  },
  {
   "cell_type": "code",
   "execution_count": 40,
   "metadata": {},
   "outputs": [
    {
     "name": "stdout",
     "output_type": "stream",
     "text": [
      "Enter numbers one at a time, and this program will find the maximum and minimum of those numbers\n",
      "Enter Number5\n",
      "Enter Number4\n",
      "Enter Number3\n",
      "Enter Number2\n",
      "Enter Number1\n",
      "Enter Number-2\n",
      "Enter Number\n",
      "Invalid input\n",
      "Enter Numberdone\n",
      "The smallest number is number is: -2.0\n",
      "The largest number is: 5.0\n"
     ]
    }
   ],
   "source": [
    "print('Enter numbers one at a time, and this program will find the maximum and minimum of those numbers')\n",
    "\n",
    "smallest = None\n",
    "largest = None\n",
    "\n",
    "while True:\n",
    "    inp = input('Enter Number')\n",
    "    if inp == 'done':\n",
    "        break\n",
    "    else:       \n",
    "        try:\n",
    "            inp = float(inp)\n",
    "        except:\n",
    "            print('Invalid input')\n",
    "            continue\n",
    "\n",
    "        if smallest is None and largest is None:\n",
    "            smallest = inp\n",
    "            largest = inp\n",
    "        elif inp < smallest:\n",
    "            smallest = inp\n",
    "        elif inp > largest:\n",
    "            largest = inp\n",
    "\n",
    "        \n",
    "                \n",
    "print('The smallest number is number is:', smallest)\n",
    "print('The largest number is:', largest)"
   ]
  },
  {
   "cell_type": "markdown",
   "metadata": {},
   "source": [
    "# Chapter 6 - Strings #\n",
    "\n",
    "__A string is just a _sequence_ of characters__. The characters can be accessed one at a time using the bracket operator. The expression inside the bracket is called the _index_.\n",
    "\n",
    "Note: In Python, the index is an offset from the beginning of the string, and the offset of the first letter is zero\n",
    "\n",
    "- Find the length of the string with the __len()__ function.\n",
    "- To access the final index in a list use __[length - 1]__\n",
    "- Similarly you can also use index __[-1]__ for the __final position__.\n",
    "\n",
    "__Examples__"
   ]
  },
  {
   "cell_type": "code",
   "execution_count": 57,
   "metadata": {},
   "outputs": [
    {
     "name": "stdout",
     "output_type": "stream",
     "text": [
      "banana\n",
      "a\n",
      "The length of the word banana is 6 characters\n",
      "The last character in banana is a and via the other method: a\n"
     ]
    }
   ],
   "source": [
    "fruit = 'banana'\n",
    "letter = fruit[1]\n",
    "print(fruit)\n",
    "print(letter)\n",
    "\n",
    "####\n",
    "\n",
    "length = len(fruit)\n",
    "print('The length of the word banana is', length, 'characters')\n",
    "\n",
    "####\n",
    "\n",
    "last = fruit[length - 1]\n",
    "print('The last character in banana is', last, 'and via the other method:', fruit[-1])"
   ]
  },
  {
   "cell_type": "markdown",
   "metadata": {},
   "source": [
    "# Traversal through a string with a loop #"
   ]
  },
  {
   "cell_type": "markdown",
   "metadata": {},
   "source": [
    "A lot of computations involve processing a string one character at a time. Often they start at the beginning, select each character in turn, _do something_ to it, and continue until the end. This pattern of processing is called a traversal.\n",
    "\n",
    "__Example:__"
   ]
  },
  {
   "cell_type": "code",
   "execution_count": 60,
   "metadata": {},
   "outputs": [
    {
     "name": "stdout",
     "output_type": "stream",
     "text": [
      "p\n",
      "i\n",
      "n\n",
      "e\n",
      "a\n",
      "p\n",
      "p\n",
      "l\n",
      "e\n"
     ]
    }
   ],
   "source": [
    "index = 0\n",
    "fruit = 'pineapple'\n",
    "while index < len(fruit):\n",
    "    letter = fruit[index]\n",
    "    print(letter)\n",
    "    index = index + 1"
   ]
  },
  {
   "cell_type": "markdown",
   "metadata": {},
   "source": [
    "_Quick Exercise:_ Write a while loop that starts at the last character in the string and works its way backwards to the first character in the string, printing each letter on a separate line, except backwards."
   ]
  },
  {
   "cell_type": "code",
   "execution_count": 63,
   "metadata": {},
   "outputs": [
    {
     "name": "stdout",
     "output_type": "stream",
     "text": [
      "e\n",
      "t\n",
      "a\n",
      "n\n",
      "a\n",
      "r\n",
      "g\n",
      "e\n",
      "m\n",
      "o\n",
      "p\n"
     ]
    }
   ],
   "source": [
    "fruit = 'pomegranate'\n",
    "index = len(fruit) - 1\n",
    "\n",
    "while index >=0:\n",
    "    letter = fruit[index]\n",
    "    print(letter)\n",
    "    index = index - 1"
   ]
  },
  {
   "cell_type": "markdown",
   "metadata": {},
   "source": [
    "### The best way to traverse a string is with a for loop ###\n",
    "\n",
    "Each time through the loop, the next character in the string is assigned to the variable char. The loop continues until no characters are left.\n",
    "\n",
    "Example:"
   ]
  },
  {
   "cell_type": "code",
   "execution_count": 66,
   "metadata": {},
   "outputs": [
    {
     "name": "stdout",
     "output_type": "stream",
     "text": [
      "b\n",
      "l\n",
      "u\n",
      "e\n",
      "b\n",
      "e\n",
      "r\n",
      "r\n",
      "y\n"
     ]
    }
   ],
   "source": [
    "fruit = 'blueberry'\n",
    "\n",
    "for char in fruit:\n",
    "    print(char)"
   ]
  },
  {
   "cell_type": "markdown",
   "metadata": {},
   "source": [
    "### String Slicing ###\n",
    "\n",
    "A segment of a string is called a slice. Selecting a slice is similar to selecting a character:\n",
    "\n",
    "The slice operator returns the indices __including the first and up to but excluding the last__."
   ]
  },
  {
   "cell_type": "code",
   "execution_count": 74,
   "metadata": {},
   "outputs": [
    {
     "name": "stdout",
     "output_type": "stream",
     "text": [
      "na\n",
      "ban\n",
      "ana\n",
      "banana\n"
     ]
    }
   ],
   "source": [
    "fruit = 'banana'\n",
    "print(fruit[2:4])\n",
    "print(fruit[:3])                  # Using Colon just puts that side from the beginning or end.\n",
    "print(fruit[3:])\n",
    "print(fruit[:])"
   ]
  },
  {
   "cell_type": "markdown",
   "metadata": {},
   "source": [
    "## Strings are immutable - Cannot be changed! ## \n",
    "\n",
    "- Meaning you can't start assigning letters to specific parts of the string\n",
    "\n",
    "E.g:\n",
    "\n",
    "- fruit[1] = 'J'\n",
    "\n",
    "is an __illegal__ thing to do.\n",
    "\n",
    "__The proper way to do it is using _string concatenation_ :__\n",
    "- new_fruit = 'J' + fruit[1:]\n"
   ]
  },
  {
   "cell_type": "markdown",
   "metadata": {},
   "source": [
    "## Looping and Counting ##\n",
    "\n",
    "The following program counts the number of times the letter “a” appears in a string:"
   ]
  },
  {
   "cell_type": "code",
   "execution_count": 101,
   "metadata": {},
   "outputs": [
    {
     "name": "stdout",
     "output_type": "stream",
     "text": [
      "3\n"
     ]
    }
   ],
   "source": [
    "word = 'banana'\n",
    "counter = 0\n",
    "\n",
    "for letters in word:\n",
    "    if letters == 'a':\n",
    "        counter = counter + 1\n",
    "    \n",
    "print(counter)"
   ]
  },
  {
   "cell_type": "markdown",
   "metadata": {},
   "source": [
    "__Quick Exercise__: Encapsulate this code in a function named count, and generalize it so that it accepts the string and the letter as arguments."
   ]
  },
  {
   "cell_type": "code",
   "execution_count": 118,
   "metadata": {},
   "outputs": [
    {
     "name": "stdout",
     "output_type": "stream",
     "text": [
      "Enter some text, and then the letter you want to checkjack mears\n",
      "What letter do you want to count the occurrences of?a\n",
      "2\n"
     ]
    }
   ],
   "source": [
    "def count(text, letter):\n",
    "    counter = 0\n",
    "    for items in text:\n",
    "        if items == letter:\n",
    "            counter = counter + 1\n",
    "            \n",
    "    return counter\n",
    "\n",
    "inp_text = input('Enter some text, and then the letter you want to check')\n",
    "search_letter = input('What letter do you want to count the occurrences of?')\n",
    "print(count(inp_text, search_letter))"
   ]
  },
  {
   "cell_type": "markdown",
   "metadata": {},
   "source": [
    "### The in operator ###\n",
    "\n",
    "The word __in__ is a boolean operator that takes two strings, compares them, and returns True if the first string appears as a __substring__ in the second:"
   ]
  },
  {
   "cell_type": "code",
   "execution_count": 124,
   "metadata": {},
   "outputs": [
    {
     "data": {
      "text/plain": [
       "True"
      ]
     },
     "execution_count": 124,
     "metadata": {},
     "output_type": "execute_result"
    }
   ],
   "source": [
    "'a' in 'banana'"
   ]
  },
  {
   "cell_type": "code",
   "execution_count": 125,
   "metadata": {},
   "outputs": [
    {
     "data": {
      "text/plain": [
       "False"
      ]
     },
     "execution_count": 125,
     "metadata": {},
     "output_type": "execute_result"
    }
   ],
   "source": [
    "'tree' in 'banana'"
   ]
  },
  {
   "cell_type": "markdown",
   "metadata": {},
   "source": [
    "### String Comparison ###\n",
    "\n",
    "__Compares if two strings are equal__"
   ]
  },
  {
   "cell_type": "code",
   "execution_count": 128,
   "metadata": {},
   "outputs": [
    {
     "name": "stdout",
     "output_type": "stream",
     "text": [
      "All right, bananas.\n"
     ]
    }
   ],
   "source": [
    "word = 'banana'\n",
    "if word == 'banana':\n",
    "    print('All right, bananas.')"
   ]
  },
  {
   "cell_type": "markdown",
   "metadata": {},
   "source": [
    "You can also check alphabetical orders of words using comparison operators - but __note that in python all uppercase letters come before all the lowercase letters__.\n",
    "\n",
    "- A common way to address this problem is to convert strings into a standard format such as __all lowercase__ before performing the comparison."
   ]
  },
  {
   "cell_type": "code",
   "execution_count": 138,
   "metadata": {},
   "outputs": [
    {
     "name": "stdout",
     "output_type": "stream",
     "text": [
      "What's the word?apple\n",
      "Your word,apple, comes before banana\n"
     ]
    }
   ],
   "source": [
    "word = input(\"What's the word?\")\n",
    "\n",
    "if word < 'banana':\n",
    "    print('Your word,' + word + ', comes before banana')\n",
    "elif word > 'banana':\n",
    "    print('Your word,' + word + ', comes after banana')\n",
    "else:\n",
    "    print('All right, bananas.')"
   ]
  },
  {
   "cell_type": "markdown",
   "metadata": {},
   "source": [
    "## String Methods ##"
   ]
  },
  {
   "cell_type": "code",
   "execution_count": 153,
   "metadata": {},
   "outputs": [
    {
     "name": "stdout",
     "output_type": "stream",
     "text": [
      "HELLO WORLD\n",
      "Hello world\n"
     ]
    }
   ],
   "source": [
    "stuff = 'hello world'\n",
    "# type(stuff)           # Tells you what type of variable stuff is\n",
    "# dir(stuff)            # Tells you what METHODS you can do to the variable\n",
    "# help(str.capitalize)  # Gives you some general help on using one of the methods\n",
    "\n",
    "new_stuff = stuff.upper()\n",
    "print(new_stuff)\n",
    "\n",
    "teststuff = stuff.capitalize()\n",
    "print(teststuff)"
   ]
  },
  {
   "cell_type": "code",
   "execution_count": null,
   "metadata": {},
   "outputs": [],
   "source": []
  }
 ],
 "metadata": {
  "kernelspec": {
   "display_name": "Python 3",
   "language": "python",
   "name": "python3"
  },
  "language_info": {
   "codemirror_mode": {
    "name": "ipython",
    "version": 3
   },
   "file_extension": ".py",
   "mimetype": "text/x-python",
   "name": "python",
   "nbconvert_exporter": "python",
   "pygments_lexer": "ipython3",
   "version": "3.7.3"
  }
 },
 "nbformat": 4,
 "nbformat_minor": 4
}
